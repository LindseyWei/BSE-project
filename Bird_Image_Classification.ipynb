{
  "nbformat": 4,
  "nbformat_minor": 0,
  "metadata": {
    "colab": {
      "name": "Bird Image Classification.ipynb",
      "provenance": [],
      "collapsed_sections": []
    },
    "kernelspec": {
      "name": "python3",
      "display_name": "Python 3"
    },
    "language_info": {
      "name": "python"
    },
    "accelerator": "GPU"
  },
  "cells": [
    {
      "cell_type": "code",
      "metadata": {
        "id": "8tvpA_t-9Wcw"
      },
      "source": [
        "import pandas as pd\n",
        "import numpy as np\n",
        "import os\n",
        "import cv2\n",
        "import glob\n",
        "import matplotlib.pyplot as plt\n",
        "from tensorflow.keras.applications.vgg16 import VGG16\n",
        "from tensorflow.keras.optimizers import Adam\n",
        "from tensorflow.keras.callbacks import ModelCheckpoint\n",
        "import tensorflow as tf"
      ],
      "execution_count": 5,
      "outputs": []
    },
    {
      "cell_type": "code",
      "metadata": {
        "colab": {
          "base_uri": "https://localhost:8080/"
        },
        "id": "wO4Km8pG9ciG",
        "outputId": "1891d23f-f418-4cd4-d358-dd219b88ac54"
      },
      "source": [
        "#Connect with google drive \n",
        "from google.colab import drive\n",
        "drive.flush_and_unmount()\n",
        "drive.mount('/content/gdrive', force_remount=True)"
      ],
      "execution_count": 6,
      "outputs": [
        {
          "output_type": "stream",
          "text": [
            "Drive not mounted, so nothing to flush and unmount.\n",
            "Mounted at /content/gdrive\n"
          ],
          "name": "stdout"
        }
      ]
    },
    {
      "cell_type": "code",
      "metadata": {
        "id": "HgO2DxxH91tG"
      },
      "source": [
        "DIR_TRAIN = \"../content/gdrive/MyDrive/birds/train\"\n",
        "DIR_VALID = \"../content/gdrive/MyDrive/birds/valid\"\n",
        "DIR_TEST = \"../content/gdrive/MyDrive/birds/test\""
      ],
      "execution_count": 7,
      "outputs": []
    },
    {
      "cell_type": "code",
      "metadata": {
        "id": "hKTbWbty98BX"
      },
      "source": [
        "birds = np.array(list(os.listdir(DIR_TRAIN)))"
      ],
      "execution_count": 8,
      "outputs": []
    },
    {
      "cell_type": "code",
      "metadata": {
        "id": "qUrgY7aD-CeN"
      },
      "source": [
        "nr_birds = 20\n",
        "\n",
        "np.random.shuffle(birds)\n",
        "birds = birds[:nr_birds]"
      ],
      "execution_count": 9,
      "outputs": []
    },
    {
      "cell_type": "code",
      "metadata": {
        "colab": {
          "base_uri": "https://localhost:8080/"
        },
        "id": "QkR-fLVn-F95",
        "outputId": "63275671-cc63-4769-b521-7dde5281f045"
      },
      "source": [
        "idx_to_name = {i:x for (i,x) in enumerate(birds)}\n",
        "name_to_idx = {x:i for (i,x) in enumerate(birds)}\n",
        "print(idx_to_name)"
      ],
      "execution_count": 10,
      "outputs": [
        {
          "output_type": "stream",
          "text": [
            "{0: 'GILDED FLICKER', 1: 'AMERICAN COOT', 2: 'SPLENDID WREN', 3: 'TAKAHE', 4: 'BALTIMORE ORIOLE', 5: 'VENEZUELIAN TROUPIAL', 6: 'MOURNING DOVE', 7: 'LONG-EARED OWL', 8: 'CASPIAN TERN', 9: 'OVENBIRD', 10: 'AMERICAN PIPIT', 11: 'RED FACED CORMORANT', 12: 'ROADRUNNER', 13: 'RED HONEY CREEPER', 14: 'ROSY FACED LOVEBIRD', 15: 'PURPLE FINCH', 16: 'ANNAS HUMMINGBIRD', 17: 'STRIPPED SWALLOW', 18: 'NORTHERN PARULA', 19: 'MANDRIN DUCK'}\n"
          ],
          "name": "stdout"
        }
      ]
    },
    {
      "cell_type": "code",
      "metadata": {
        "id": "wvDb3ZIj-IGq"
      },
      "source": [
        "def get_data_labels(path, birds, dim):\n",
        "    data = []\n",
        "    labels = []\n",
        "\n",
        "    for bird in birds:\n",
        "        imgs = [cv2.resize(cv2.imread(img), dim, interpolation=cv2.INTER_AREA) for img in glob.glob(path + \"/\" + bird + \"/*.jpg\")]\n",
        "        for img in imgs:\n",
        "            data.append(img)\n",
        "            labels.append(name_to_idx[bird])\n",
        "    return np.array(data), np.array(labels)"
      ],
      "execution_count": 11,
      "outputs": []
    },
    {
      "cell_type": "code",
      "metadata": {
        "id": "DL9qgvsW-U0J"
      },
      "source": [
        "data_train, labels_train = get_data_labels(DIR_TRAIN, idx_to_name.values(), (224,224))\n",
        "data_test, labels_test = get_data_labels(DIR_TEST, idx_to_name.values(), (224,224))\n",
        "data_valid, labels_valid = get_data_labels(DIR_VALID, idx_to_name.values(), (224,224))"
      ],
      "execution_count": 12,
      "outputs": []
    },
    {
      "cell_type": "code",
      "metadata": {
        "id": "6Zwdjo3d-WER"
      },
      "source": [
        "def normalize(data):\n",
        "    data = data / 255.0\n",
        "    data = data.astype('float32')\n",
        "    return data\n",
        "\n",
        "def one_hot(labels):\n",
        "    labels = np.eye(len(np.unique(labels)))[labels]\n",
        "    return labels"
      ],
      "execution_count": 13,
      "outputs": []
    },
    {
      "cell_type": "code",
      "metadata": {
        "colab": {
          "base_uri": "https://localhost:8080/"
        },
        "id": "PcsPhwyuNF0w",
        "outputId": "e6571e8d-bf34-46c6-b2c0-aaf992247b31"
      },
      "source": [
        "data_train"
      ],
      "execution_count": 14,
      "outputs": [
        {
          "output_type": "execute_result",
          "data": {
            "text/plain": [
              "array([[[[185, 159, 143],\n",
              "         [184, 158, 141],\n",
              "         [184, 158, 141],\n",
              "         ...,\n",
              "         [185, 156, 135],\n",
              "         [184, 155, 134],\n",
              "         [183, 154, 133]],\n",
              "\n",
              "        [[185, 159, 143],\n",
              "         [184, 158, 141],\n",
              "         [185, 160, 140],\n",
              "         ...,\n",
              "         [186, 157, 136],\n",
              "         [185, 156, 135],\n",
              "         [185, 156, 135]],\n",
              "\n",
              "        [[185, 159, 142],\n",
              "         [184, 159, 139],\n",
              "         [185, 160, 140],\n",
              "         ...,\n",
              "         [187, 158, 137],\n",
              "         [187, 157, 138],\n",
              "         [186, 156, 137]],\n",
              "\n",
              "        ...,\n",
              "\n",
              "        [[177, 153, 133],\n",
              "         [177, 153, 133],\n",
              "         [178, 153, 133],\n",
              "         ...,\n",
              "         [125, 134, 121],\n",
              "         [124, 134, 122],\n",
              "         [122, 134, 122]],\n",
              "\n",
              "        [[177, 153, 135],\n",
              "         [177, 153, 135],\n",
              "         [177, 152, 132],\n",
              "         ...,\n",
              "         [127, 136, 123],\n",
              "         [126, 135, 122],\n",
              "         [126, 136, 123]],\n",
              "\n",
              "        [[179, 155, 137],\n",
              "         [179, 155, 137],\n",
              "         [179, 154, 134],\n",
              "         ...,\n",
              "         [132, 139, 126],\n",
              "         [129, 138, 125],\n",
              "         [129, 138, 125]]],\n",
              "\n",
              "\n",
              "       [[[119,  58,   8],\n",
              "         [118,  61,   6],\n",
              "         [118,  66,   0],\n",
              "         ...,\n",
              "         [193, 146, 115],\n",
              "         [208, 165, 150],\n",
              "         [218, 176, 169]],\n",
              "\n",
              "        [[120,  60,   8],\n",
              "         [118,  61,   5],\n",
              "         [117,  64,   1],\n",
              "         ...,\n",
              "         [202, 155, 124],\n",
              "         [218, 173, 159],\n",
              "         [224, 183, 174]],\n",
              "\n",
              "        [[120,  60,   1],\n",
              "         [118,  61,   0],\n",
              "         [116,  62,   0],\n",
              "         ...,\n",
              "         [204, 157, 125],\n",
              "         [216, 172, 155],\n",
              "         [221, 179, 167]],\n",
              "\n",
              "        ...,\n",
              "\n",
              "        [[ 65, 134, 143],\n",
              "         [ 38, 103, 112],\n",
              "         [ 12,  71,  81],\n",
              "         ...,\n",
              "         [ 79, 112, 138],\n",
              "         [ 93, 127, 151],\n",
              "         [ 71, 107, 131]],\n",
              "\n",
              "        [[ 80, 150, 157],\n",
              "         [ 60, 125, 133],\n",
              "         [ 40,  96, 107],\n",
              "         ...,\n",
              "         [ 98, 128, 155],\n",
              "         [ 97, 131, 155],\n",
              "         [ 54,  88, 111]],\n",
              "\n",
              "        [[ 54, 124, 131],\n",
              "         [ 27,  92, 100],\n",
              "         [ 40,  94, 105],\n",
              "         ...,\n",
              "         [ 66,  97, 122],\n",
              "         [ 86, 117, 142],\n",
              "         [ 42,  76,  99]]],\n",
              "\n",
              "\n",
              "       [[[ 93, 130, 134],\n",
              "         [ 93, 130, 134],\n",
              "         [ 93, 130, 134],\n",
              "         ...,\n",
              "         [ 97, 134, 130],\n",
              "         [ 98, 135, 131],\n",
              "         [100, 137, 133]],\n",
              "\n",
              "        [[102, 137, 141],\n",
              "         [100, 137, 141],\n",
              "         [103, 138, 142],\n",
              "         ...,\n",
              "         [ 95, 132, 128],\n",
              "         [ 96, 133, 129],\n",
              "         [ 97, 134, 130]],\n",
              "\n",
              "        [[104, 136, 141],\n",
              "         [103, 138, 142],\n",
              "         [105, 137, 142],\n",
              "         ...,\n",
              "         [ 97, 132, 128],\n",
              "         [ 97, 132, 128],\n",
              "         [ 98, 133, 129]],\n",
              "\n",
              "        ...,\n",
              "\n",
              "        [[106, 134, 141],\n",
              "         [111, 135, 141],\n",
              "         [108, 128, 133],\n",
              "         ...,\n",
              "         [160, 193, 178],\n",
              "         [156, 192, 176],\n",
              "         [154, 190, 174]],\n",
              "\n",
              "        [[114, 132, 139],\n",
              "         [118, 134, 141],\n",
              "         [116, 128, 134],\n",
              "         ...,\n",
              "         [159, 192, 177],\n",
              "         [154, 190, 174],\n",
              "         [151, 187, 171]],\n",
              "\n",
              "        [[116, 129, 137],\n",
              "         [119, 131, 137],\n",
              "         [118, 128, 135],\n",
              "         ...,\n",
              "         [158, 191, 176],\n",
              "         [153, 189, 173],\n",
              "         [150, 186, 170]]],\n",
              "\n",
              "\n",
              "       ...,\n",
              "\n",
              "\n",
              "       [[[  2,  19,  32],\n",
              "         [  3,  20,  33],\n",
              "         [  3,  20,  33],\n",
              "         ...,\n",
              "         [ 15,  40, 112],\n",
              "         [ 18,  42, 118],\n",
              "         [ 20,  44, 120]],\n",
              "\n",
              "        [[  3,  20,  33],\n",
              "         [  3,  20,  33],\n",
              "         [  3,  20,  33],\n",
              "         ...,\n",
              "         [ 13,  38, 110],\n",
              "         [ 16,  41, 115],\n",
              "         [ 16,  42, 118]],\n",
              "\n",
              "        [[  4,  21,  34],\n",
              "         [  3,  20,  33],\n",
              "         [  1,  20,  33],\n",
              "         ...,\n",
              "         [ 10,  39, 108],\n",
              "         [ 13,  40, 114],\n",
              "         [ 13,  42, 116]],\n",
              "\n",
              "        ...,\n",
              "\n",
              "        [[  0,  32,  43],\n",
              "         [  1,  33,  44],\n",
              "         [  2,  34,  45],\n",
              "         ...,\n",
              "         [ 19,  37, 144],\n",
              "         [ 24,  41, 151],\n",
              "         [ 25,  45, 154]],\n",
              "\n",
              "        [[  0,  36,  44],\n",
              "         [  1,  37,  45],\n",
              "         [  2,  38,  46],\n",
              "         ...,\n",
              "         [ 30,  50, 157],\n",
              "         [ 29,  49, 158],\n",
              "         [ 27,  48, 157]],\n",
              "\n",
              "        [[  0,  35,  43],\n",
              "         [  0,  35,  43],\n",
              "         [  0,  36,  44],\n",
              "         ...,\n",
              "         [ 19,  39, 146],\n",
              "         [ 21,  42, 151],\n",
              "         [ 21,  42, 151]]],\n",
              "\n",
              "\n",
              "       [[[127, 147, 124],\n",
              "         [128, 148, 125],\n",
              "         [136, 151, 130],\n",
              "         ...,\n",
              "         [125, 198, 152],\n",
              "         [110, 192, 149],\n",
              "         [107, 194, 150]],\n",
              "\n",
              "        [[128, 147, 126],\n",
              "         [125, 142, 121],\n",
              "         [129, 144, 123],\n",
              "         ...,\n",
              "         [121, 196, 152],\n",
              "         [109, 191, 148],\n",
              "         [106, 193, 149]],\n",
              "\n",
              "        [[128, 148, 129],\n",
              "         [125, 141, 123],\n",
              "         [128, 138, 121],\n",
              "         ...,\n",
              "         [114, 193, 149],\n",
              "         [107, 189, 146],\n",
              "         [104, 191, 147]],\n",
              "\n",
              "        ...,\n",
              "\n",
              "        [[ 97, 168, 141],\n",
              "         [ 89, 161, 131],\n",
              "         [ 91, 165, 131],\n",
              "         ...,\n",
              "         [ 72, 164,  99],\n",
              "         [ 78, 171, 104],\n",
              "         [ 72, 168,  98]],\n",
              "\n",
              "        [[ 67, 143, 112],\n",
              "         [ 95, 171, 139],\n",
              "         [110, 185, 147],\n",
              "         ...,\n",
              "         [ 85, 171, 109],\n",
              "         [ 85, 171, 109],\n",
              "         [ 67, 153,  91]],\n",
              "\n",
              "        [[ 74, 153, 120],\n",
              "         [ 78, 155, 121],\n",
              "         [104, 182, 141],\n",
              "         ...,\n",
              "         [ 92, 178, 118],\n",
              "         [ 70, 152,  93],\n",
              "         [ 66, 148,  89]]],\n",
              "\n",
              "\n",
              "       [[[ 61,  69,  76],\n",
              "         [ 70,  78,  85],\n",
              "         [ 75,  84,  94],\n",
              "         ...,\n",
              "         [ 94, 107, 123],\n",
              "         [101, 117, 133],\n",
              "         [106, 125, 140]],\n",
              "\n",
              "        [[ 71,  82,  86],\n",
              "         [ 78,  88,  95],\n",
              "         [ 78,  89,  97],\n",
              "         ...,\n",
              "         [ 96, 109, 125],\n",
              "         [106, 122, 138],\n",
              "         [113, 132, 147]],\n",
              "\n",
              "        [[ 74,  89,  91],\n",
              "         [ 82,  97, 100],\n",
              "         [ 77,  93,  99],\n",
              "         ...,\n",
              "         [104, 119, 135],\n",
              "         [114, 132, 149],\n",
              "         [121, 141, 158]],\n",
              "\n",
              "        ...,\n",
              "\n",
              "        [[ 82, 119, 115],\n",
              "         [110, 150, 145],\n",
              "         [112, 151, 149],\n",
              "         ...,\n",
              "         [ 88, 126, 120],\n",
              "         [ 89, 128, 120],\n",
              "         [ 85, 125, 114]],\n",
              "\n",
              "        [[ 36,  72,  66],\n",
              "         [ 78, 116, 110],\n",
              "         [ 67, 106,  98],\n",
              "         ...,\n",
              "         [ 88, 131, 122],\n",
              "         [108, 152, 139],\n",
              "         [101, 147, 134]],\n",
              "\n",
              "        [[ 51,  88,  80],\n",
              "         [ 65, 102,  94],\n",
              "         [ 76, 116, 105],\n",
              "         ...,\n",
              "         [ 86, 132, 120],\n",
              "         [ 87, 136, 122],\n",
              "         [111, 160, 144]]]], dtype=uint8)"
            ]
          },
          "metadata": {
            "tags": []
          },
          "execution_count": 14
        }
      ]
    },
    {
      "cell_type": "code",
      "metadata": {
        "colab": {
          "base_uri": "https://localhost:8080/"
        },
        "id": "fl1Y_Bmm-1a5",
        "outputId": "ffad878b-4a7c-4eb4-a22b-7fcbc5aa12a1"
      },
      "source": [
        "labels_train"
      ],
      "execution_count": 15,
      "outputs": [
        {
          "output_type": "execute_result",
          "data": {
            "text/plain": [
              "array([ 0,  0,  0, ..., 19, 19, 19])"
            ]
          },
          "metadata": {
            "tags": []
          },
          "execution_count": 15
        }
      ]
    },
    {
      "cell_type": "code",
      "metadata": {
        "id": "UCJNT1l2-aO6"
      },
      "source": [
        "data_train = normalize(data_train)\n",
        "data_test = normalize(data_test)\n",
        "data_valid = normalize(data_valid)"
      ],
      "execution_count": 16,
      "outputs": []
    },
    {
      "cell_type": "code",
      "metadata": {
        "id": "eWCdWesd_8Al"
      },
      "source": [
        "labels_train = one_hot(labels_train)\n",
        "labels_test = one_hot(labels_test)\n",
        "labels_valid = one_hot(labels_valid)"
      ],
      "execution_count": 17,
      "outputs": []
    },
    {
      "cell_type": "code",
      "metadata": {
        "colab": {
          "base_uri": "https://localhost:8080/"
        },
        "id": "idJ9QOlzAjUU",
        "outputId": "7352d932-c0a2-417e-e080-0b4d84fe5b57"
      },
      "source": [
        "base_model = VGG16(weights='imagenet', include_top=False, input_shape=(224, 224, 3))\n",
        "base_model.summary()"
      ],
      "execution_count": 18,
      "outputs": [
        {
          "output_type": "stream",
          "text": [
            "Downloading data from https://storage.googleapis.com/tensorflow/keras-applications/vgg16/vgg16_weights_tf_dim_ordering_tf_kernels_notop.h5\n",
            "58892288/58889256 [==============================] - 0s 0us/step\n",
            "Model: \"vgg16\"\n",
            "_________________________________________________________________\n",
            "Layer (type)                 Output Shape              Param #   \n",
            "=================================================================\n",
            "input_1 (InputLayer)         [(None, 224, 224, 3)]     0         \n",
            "_________________________________________________________________\n",
            "block1_conv1 (Conv2D)        (None, 224, 224, 64)      1792      \n",
            "_________________________________________________________________\n",
            "block1_conv2 (Conv2D)        (None, 224, 224, 64)      36928     \n",
            "_________________________________________________________________\n",
            "block1_pool (MaxPooling2D)   (None, 112, 112, 64)      0         \n",
            "_________________________________________________________________\n",
            "block2_conv1 (Conv2D)        (None, 112, 112, 128)     73856     \n",
            "_________________________________________________________________\n",
            "block2_conv2 (Conv2D)        (None, 112, 112, 128)     147584    \n",
            "_________________________________________________________________\n",
            "block2_pool (MaxPooling2D)   (None, 56, 56, 128)       0         \n",
            "_________________________________________________________________\n",
            "block3_conv1 (Conv2D)        (None, 56, 56, 256)       295168    \n",
            "_________________________________________________________________\n",
            "block3_conv2 (Conv2D)        (None, 56, 56, 256)       590080    \n",
            "_________________________________________________________________\n",
            "block3_conv3 (Conv2D)        (None, 56, 56, 256)       590080    \n",
            "_________________________________________________________________\n",
            "block3_pool (MaxPooling2D)   (None, 28, 28, 256)       0         \n",
            "_________________________________________________________________\n",
            "block4_conv1 (Conv2D)        (None, 28, 28, 512)       1180160   \n",
            "_________________________________________________________________\n",
            "block4_conv2 (Conv2D)        (None, 28, 28, 512)       2359808   \n",
            "_________________________________________________________________\n",
            "block4_conv3 (Conv2D)        (None, 28, 28, 512)       2359808   \n",
            "_________________________________________________________________\n",
            "block4_pool (MaxPooling2D)   (None, 14, 14, 512)       0         \n",
            "_________________________________________________________________\n",
            "block5_conv1 (Conv2D)        (None, 14, 14, 512)       2359808   \n",
            "_________________________________________________________________\n",
            "block5_conv2 (Conv2D)        (None, 14, 14, 512)       2359808   \n",
            "_________________________________________________________________\n",
            "block5_conv3 (Conv2D)        (None, 14, 14, 512)       2359808   \n",
            "_________________________________________________________________\n",
            "block5_pool (MaxPooling2D)   (None, 7, 7, 512)         0         \n",
            "=================================================================\n",
            "Total params: 14,714,688\n",
            "Trainable params: 14,714,688\n",
            "Non-trainable params: 0\n",
            "_________________________________________________________________\n"
          ],
          "name": "stdout"
        }
      ]
    },
    {
      "cell_type": "code",
      "metadata": {
        "colab": {
          "base_uri": "https://localhost:8080/"
        },
        "id": "vkcq4vvyBWFK",
        "outputId": "4bac79c2-77b3-4f61-a880-3020666ac38b"
      },
      "source": [
        "for layer in base_model.layers:\n",
        "    layer.trainable = False\n",
        " \n",
        "base_model.summary()"
      ],
      "execution_count": 19,
      "outputs": [
        {
          "output_type": "stream",
          "text": [
            "Model: \"vgg16\"\n",
            "_________________________________________________________________\n",
            "Layer (type)                 Output Shape              Param #   \n",
            "=================================================================\n",
            "input_1 (InputLayer)         [(None, 224, 224, 3)]     0         \n",
            "_________________________________________________________________\n",
            "block1_conv1 (Conv2D)        (None, 224, 224, 64)      1792      \n",
            "_________________________________________________________________\n",
            "block1_conv2 (Conv2D)        (None, 224, 224, 64)      36928     \n",
            "_________________________________________________________________\n",
            "block1_pool (MaxPooling2D)   (None, 112, 112, 64)      0         \n",
            "_________________________________________________________________\n",
            "block2_conv1 (Conv2D)        (None, 112, 112, 128)     73856     \n",
            "_________________________________________________________________\n",
            "block2_conv2 (Conv2D)        (None, 112, 112, 128)     147584    \n",
            "_________________________________________________________________\n",
            "block2_pool (MaxPooling2D)   (None, 56, 56, 128)       0         \n",
            "_________________________________________________________________\n",
            "block3_conv1 (Conv2D)        (None, 56, 56, 256)       295168    \n",
            "_________________________________________________________________\n",
            "block3_conv2 (Conv2D)        (None, 56, 56, 256)       590080    \n",
            "_________________________________________________________________\n",
            "block3_conv3 (Conv2D)        (None, 56, 56, 256)       590080    \n",
            "_________________________________________________________________\n",
            "block3_pool (MaxPooling2D)   (None, 28, 28, 256)       0         \n",
            "_________________________________________________________________\n",
            "block4_conv1 (Conv2D)        (None, 28, 28, 512)       1180160   \n",
            "_________________________________________________________________\n",
            "block4_conv2 (Conv2D)        (None, 28, 28, 512)       2359808   \n",
            "_________________________________________________________________\n",
            "block4_conv3 (Conv2D)        (None, 28, 28, 512)       2359808   \n",
            "_________________________________________________________________\n",
            "block4_pool (MaxPooling2D)   (None, 14, 14, 512)       0         \n",
            "_________________________________________________________________\n",
            "block5_conv1 (Conv2D)        (None, 14, 14, 512)       2359808   \n",
            "_________________________________________________________________\n",
            "block5_conv2 (Conv2D)        (None, 14, 14, 512)       2359808   \n",
            "_________________________________________________________________\n",
            "block5_conv3 (Conv2D)        (None, 14, 14, 512)       2359808   \n",
            "_________________________________________________________________\n",
            "block5_pool (MaxPooling2D)   (None, 7, 7, 512)         0         \n",
            "=================================================================\n",
            "Total params: 14,714,688\n",
            "Trainable params: 0\n",
            "Non-trainable params: 14,714,688\n",
            "_________________________________________________________________\n"
          ],
          "name": "stdout"
        }
      ]
    },
    {
      "cell_type": "code",
      "metadata": {
        "id": "KwpOvQrLBZgb"
      },
      "source": [
        "from tensorflow.keras.layers import Dense, Flatten\n",
        "from tensorflow.keras.models import Model\n",
        " \n",
        "# use “get_layer” method to save the last layer of the network\n",
        "last_layer = base_model.get_layer('block5_pool')\n",
        "# save the output of the last layer to be the input of the next layer\n",
        "last_output = last_layer.output\n",
        " \n",
        "# flatten the classifier input which is output of the last layer of VGG16 model\n",
        "x = Flatten()(last_output)\n",
        " \n",
        "# add our new softmax layer with 3 hidden units\n",
        "x = Dense(nr_birds, activation='softmax', name='softmax')(x)"
      ],
      "execution_count": 20,
      "outputs": []
    },
    {
      "cell_type": "code",
      "metadata": {
        "colab": {
          "base_uri": "https://localhost:8080/"
        },
        "id": "xvQSdjF3Bghj",
        "outputId": "9921698d-2e48-4503-9f38-6670e619a4e0"
      },
      "source": [
        "# instantiate a new_model using keras’s Model class\n",
        "new_model = Model(inputs=base_model.input, outputs=x)\n",
        " \n",
        "# print the new_model summary\n",
        "new_model.summary()"
      ],
      "execution_count": 21,
      "outputs": [
        {
          "output_type": "stream",
          "text": [
            "Model: \"model\"\n",
            "_________________________________________________________________\n",
            "Layer (type)                 Output Shape              Param #   \n",
            "=================================================================\n",
            "input_1 (InputLayer)         [(None, 224, 224, 3)]     0         \n",
            "_________________________________________________________________\n",
            "block1_conv1 (Conv2D)        (None, 224, 224, 64)      1792      \n",
            "_________________________________________________________________\n",
            "block1_conv2 (Conv2D)        (None, 224, 224, 64)      36928     \n",
            "_________________________________________________________________\n",
            "block1_pool (MaxPooling2D)   (None, 112, 112, 64)      0         \n",
            "_________________________________________________________________\n",
            "block2_conv1 (Conv2D)        (None, 112, 112, 128)     73856     \n",
            "_________________________________________________________________\n",
            "block2_conv2 (Conv2D)        (None, 112, 112, 128)     147584    \n",
            "_________________________________________________________________\n",
            "block2_pool (MaxPooling2D)   (None, 56, 56, 128)       0         \n",
            "_________________________________________________________________\n",
            "block3_conv1 (Conv2D)        (None, 56, 56, 256)       295168    \n",
            "_________________________________________________________________\n",
            "block3_conv2 (Conv2D)        (None, 56, 56, 256)       590080    \n",
            "_________________________________________________________________\n",
            "block3_conv3 (Conv2D)        (None, 56, 56, 256)       590080    \n",
            "_________________________________________________________________\n",
            "block3_pool (MaxPooling2D)   (None, 28, 28, 256)       0         \n",
            "_________________________________________________________________\n",
            "block4_conv1 (Conv2D)        (None, 28, 28, 512)       1180160   \n",
            "_________________________________________________________________\n",
            "block4_conv2 (Conv2D)        (None, 28, 28, 512)       2359808   \n",
            "_________________________________________________________________\n",
            "block4_conv3 (Conv2D)        (None, 28, 28, 512)       2359808   \n",
            "_________________________________________________________________\n",
            "block4_pool (MaxPooling2D)   (None, 14, 14, 512)       0         \n",
            "_________________________________________________________________\n",
            "block5_conv1 (Conv2D)        (None, 14, 14, 512)       2359808   \n",
            "_________________________________________________________________\n",
            "block5_conv2 (Conv2D)        (None, 14, 14, 512)       2359808   \n",
            "_________________________________________________________________\n",
            "block5_conv3 (Conv2D)        (None, 14, 14, 512)       2359808   \n",
            "_________________________________________________________________\n",
            "block5_pool (MaxPooling2D)   (None, 7, 7, 512)         0         \n",
            "_________________________________________________________________\n",
            "flatten (Flatten)            (None, 25088)             0         \n",
            "_________________________________________________________________\n",
            "softmax (Dense)              (None, 20)                501780    \n",
            "=================================================================\n",
            "Total params: 15,216,468\n",
            "Trainable params: 501,780\n",
            "Non-trainable params: 14,714,688\n",
            "_________________________________________________________________\n"
          ],
          "name": "stdout"
        }
      ]
    },
    {
      "cell_type": "code",
      "metadata": {
        "colab": {
          "base_uri": "https://localhost:8080/"
        },
        "id": "Pc1VzHE3BkWl",
        "outputId": "0a62f747-de90-47b2-b6e2-8544bd2798a6"
      },
      "source": [
        "new_model.compile(Adam(lr=0.0001), loss='categorical_crossentropy', metrics=['accuracy'])"
      ],
      "execution_count": 22,
      "outputs": [
        {
          "output_type": "stream",
          "text": [
            "/usr/local/lib/python3.7/dist-packages/tensorflow/python/keras/optimizer_v2/optimizer_v2.py:375: UserWarning: The `lr` argument is deprecated, use `learning_rate` instead.\n",
            "  \"The `lr` argument is deprecated, use `learning_rate` instead.\")\n"
          ],
          "name": "stderr"
        }
      ]
    },
    {
      "cell_type": "code",
      "metadata": {
        "id": "kMXuStLVBnZI"
      },
      "source": [
        "checkpointer = ModelCheckpoint(filepath='birds.model.hdf5', save_best_only=True)"
      ],
      "execution_count": 23,
      "outputs": []
    },
    {
      "cell_type": "code",
      "metadata": {
        "colab": {
          "base_uri": "https://localhost:8080/"
        },
        "id": "EJUL0nFKGh3g",
        "outputId": "f65e60af-c588-4926-f45a-6df0b77b9250"
      },
      "source": [
        "history = new_model.fit(data_train, labels_train, steps_per_epoch=len(data_train),\n",
        "validation_data=(data_test, labels_test), validation_steps=3, epochs=5, verbose=1, callbacks=[checkpointer])"
      ],
      "execution_count": 24,
      "outputs": [
        {
          "output_type": "stream",
          "text": [
            "Epoch 1/5\n",
            "2869/2869 [==============================] - 69s 13ms/step - loss: 1.0298 - accuracy: 0.7079 - val_loss: 0.3751 - val_accuracy: 0.9200\n",
            "Epoch 2/5\n",
            "2869/2869 [==============================] - 26s 9ms/step - loss: 0.1556 - accuracy: 0.9669 - val_loss: 0.2356 - val_accuracy: 0.9400\n",
            "Epoch 3/5\n",
            "2869/2869 [==============================] - 27s 9ms/step - loss: 0.0457 - accuracy: 0.9951 - val_loss: 0.2091 - val_accuracy: 0.9400\n",
            "Epoch 4/5\n",
            "2869/2869 [==============================] - 27s 9ms/step - loss: 0.0201 - accuracy: 0.9983 - val_loss: 0.1847 - val_accuracy: 0.9500\n",
            "Epoch 5/5\n",
            "2869/2869 [==============================] - 27s 10ms/step - loss: 0.0079 - accuracy: 0.9990 - val_loss: 0.1720 - val_accuracy: 0.9300\n"
          ],
          "name": "stdout"
        }
      ]
    },
    {
      "cell_type": "code",
      "metadata": {
        "colab": {
          "base_uri": "https://localhost:8080/"
        },
        "id": "pnx5c_UimPqS",
        "outputId": "b4baf863-1bc1-4f2e-b196-154d9ddb5fec"
      },
      "source": [
        "new_model.save(os.curdir)"
      ],
      "execution_count": 25,
      "outputs": [
        {
          "output_type": "stream",
          "text": [
            "INFO:tensorflow:Assets written to: ./assets\n"
          ],
          "name": "stdout"
        }
      ]
    },
    {
      "cell_type": "code",
      "metadata": {
        "colab": {
          "base_uri": "https://localhost:8080/"
        },
        "id": "IYh5WDBSnh9Q",
        "outputId": "ba353e0b-8d28-4039-9882-e8da43711c36"
      },
      "source": [
        "new_model.save('content/finalmodel/')"
      ],
      "execution_count": 26,
      "outputs": [
        {
          "output_type": "stream",
          "text": [
            "INFO:tensorflow:Assets written to: content/finalmodel/assets\n"
          ],
          "name": "stdout"
        }
      ]
    },
    {
      "cell_type": "code",
      "metadata": {
        "id": "WzP6iYfQYgCg"
      },
      "source": [
        ""
      ],
      "execution_count": 26,
      "outputs": []
    },
    {
      "cell_type": "code",
      "metadata": {
        "id": "-Jrx3ekIoQmG"
      },
      "source": [
        "import tensorflow as tf\n",
        "# Convert the model\n",
        "converter = tf.lite.TFLiteConverter.from_saved_model(\"content/finalmodel/\") # path to the SavedModel directory\n",
        "tflite_model = converter.convert()\n",
        "\n",
        "# Save the model.\n",
        "with open('model.tflite', 'wb') as f:\n",
        "  f.write(tflite_model)"
      ],
      "execution_count": 27,
      "outputs": []
    },
    {
      "cell_type": "code",
      "metadata": {
        "id": "oZzrbjO9p3AB"
      },
      "source": [
        "new_load_model = tf.keras.models.load_model(\"content/finalmodel/\")"
      ],
      "execution_count": 28,
      "outputs": []
    },
    {
      "cell_type": "code",
      "metadata": {
        "colab": {
          "base_uri": "https://localhost:8080/"
        },
        "id": "aX0HP-Crvx1E",
        "outputId": "2cc23a9c-dca2-4706-86df-73ae41579d8d"
      },
      "source": [
        "# Load TFLite model and allocate tensors.\n",
        "interpreter = tf.lite.Interpreter(model_path=\"model.tflite\")\n",
        "interpreter.allocate_tensors()\n",
        "\n",
        "# Get input and output tensors.\n",
        "input_details = interpreter.get_input_details()\n",
        "output_details = interpreter.get_output_details()\n",
        "\n",
        "# Test model on random input data.\n",
        "input_shape = input_details[0]['shape']\n",
        "##input_data = np.array(np.random.random_sample(input_shape), dtype=np.float32)\n",
        "dir='/content/Roadrunner_DeathValley.jpg'\n",
        "input_data=cv2.imread(dir).astype(\"float32\")\n",
        "input_data=cv2.resize(input_data,(224,224))\n",
        "input_data=np.expand_dims(input_data,0)#2D->3D\n",
        "interpreter.set_tensor(input_details[0]['index'], input_data)\n",
        "\n",
        "interpreter.invoke()\n",
        "\n",
        "# The function `get_tensor()` returns a copy of the tensor data.\n",
        "# Use `tensor()` in order to get a pointer to the tensor.\n",
        "output_data = interpreter.get_tensor(output_details[0]['index'])\n",
        "print(output_data)"
      ],
      "execution_count": 55,
      "outputs": [
        {
          "output_type": "stream",
          "text": [
            "[[2.938265e-39 2.938265e-39 2.938265e-39 2.938265e-39 2.938265e-39\n",
            "  2.938265e-39 2.938265e-39 2.938265e-39 2.938265e-39 2.938265e-39\n",
            "  2.938265e-39 2.938265e-39 1.000000e+00 2.938265e-39 2.938265e-39\n",
            "  2.938265e-39 0.000000e+00 0.000000e+00 0.000000e+00 0.000000e+00]]\n"
          ],
          "name": "stdout"
        }
      ]
    },
    {
      "cell_type": "code",
      "metadata": {
        "colab": {
          "base_uri": "https://localhost:8080/"
        },
        "id": "1cV3BUihlb5T",
        "outputId": "a1963d3b-451a-408e-f566-d189ef713ccf"
      },
      "source": [
        "input_data=cv2.imread(dir).astype(\"float32\")\n",
        "type(input_data)\n",
        "\n",
        "input_data.shape\n",
        "##input_data=np.expand_dims(input_data,0)#2D->3D\n",
        "input_data=cv2.resize(input_data,(224,224))\n",
        "print(input_data.shape)"
      ],
      "execution_count": 54,
      "outputs": [
        {
          "output_type": "stream",
          "text": [
            "(224, 224, 3)\n"
          ],
          "name": "stdout"
        }
      ]
    },
    {
      "cell_type": "code",
      "metadata": {
        "colab": {
          "base_uri": "https://localhost:8080/"
        },
        "id": "Pc0QuZoHhtYG",
        "outputId": "197a137e-a168-47c5-f50b-7c4458e77563"
      },
      "source": [
        "x=np.argmax(output_data)\n",
        "print(x)\n",
        "## the index"
      ],
      "execution_count": 56,
      "outputs": [
        {
          "output_type": "stream",
          "text": [
            "12\n"
          ],
          "name": "stdout"
        }
      ]
    },
    {
      "cell_type": "code",
      "metadata": {
        "colab": {
          "base_uri": "https://localhost:8080/",
          "height": 35
        },
        "id": "1GBNXQp5jb3N",
        "outputId": "c8f2b957-0dba-4714-fac0-9a322ee25841"
      },
      "source": [
        "idx_to_name[x]"
      ],
      "execution_count": 58,
      "outputs": [
        {
          "output_type": "execute_result",
          "data": {
            "application/vnd.google.colaboratory.intrinsic+json": {
              "type": "string"
            },
            "text/plain": [
              "'ROADRUNNER'"
            ]
          },
          "metadata": {
            "tags": []
          },
          "execution_count": 58
        }
      ]
    },
    {
      "cell_type": "code",
      "metadata": {
        "colab": {
          "base_uri": "https://localhost:8080/"
        },
        "id": "QUuk0GkAYOgA",
        "outputId": "43c9e916-43c9-4453-ab51-81433ea17cf7"
      },
      "source": [
        "output_details"
      ],
      "execution_count": 30,
      "outputs": [
        {
          "output_type": "execute_result",
          "data": {
            "text/plain": [
              "[{'dtype': numpy.float32,\n",
              "  'index': 50,\n",
              "  'name': 'StatefulPartitionedCall:0',\n",
              "  'quantization': (0.0, 0),\n",
              "  'quantization_parameters': {'quantized_dimension': 0,\n",
              "   'scales': array([], dtype=float32),\n",
              "   'zero_points': array([], dtype=int32)},\n",
              "  'shape': array([ 1, 20], dtype=int32),\n",
              "  'shape_signature': array([-1, 20], dtype=int32),\n",
              "  'sparsity_parameters': {}}]"
            ]
          },
          "metadata": {
            "tags": []
          },
          "execution_count": 30
        }
      ]
    },
    {
      "cell_type": "code",
      "metadata": {
        "colab": {
          "base_uri": "https://localhost:8080/"
        },
        "id": "brR6-QNikHhw",
        "outputId": "a6f26d5c-064b-491c-9085-7286d75793ff"
      },
      "source": [
        "input_details"
      ],
      "execution_count": 40,
      "outputs": [
        {
          "output_type": "execute_result",
          "data": {
            "text/plain": [
              "[{'dtype': numpy.float32,\n",
              "  'index': 0,\n",
              "  'name': 'serving_default_input_1:0',\n",
              "  'quantization': (0.0, 0),\n",
              "  'quantization_parameters': {'quantized_dimension': 0,\n",
              "   'scales': array([], dtype=float32),\n",
              "   'zero_points': array([], dtype=int32)},\n",
              "  'shape': array([  1, 224, 224,   3], dtype=int32),\n",
              "  'shape_signature': array([ -1, 224, 224,   3], dtype=int32),\n",
              "  'sparsity_parameters': {}}]"
            ]
          },
          "metadata": {
            "tags": []
          },
          "execution_count": 40
        }
      ]
    }
  ]
}